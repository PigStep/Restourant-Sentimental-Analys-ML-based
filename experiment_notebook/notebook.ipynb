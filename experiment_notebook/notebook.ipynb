{
  "nbformat": 4,
  "nbformat_minor": 0,
  "metadata": {
    "colab": {
      "provenance": [],
      "include_colab_link": true
    },
    "kernelspec": {
      "name": "python3",
      "display_name": "Python 3"
    },
    "language_info": {
      "name": "python"
    }
  },
  "cells": [
    {
      "cell_type": "markdown",
      "metadata": {
        "id": "view-in-github",
        "colab_type": "text"
      },
      "source": [
        "<a href=\"https://colab.research.google.com/github/PigStep/Restourant-Sentimental-Analys-ML-based/blob/main/experiment_notebook/notebook.ipynb\" target=\"_parent\"><img src=\"https://colab.research.google.com/assets/colab-badge.svg\" alt=\"Open In Colab\"/></a>"
      ]
    },
    {
      "cell_type": "markdown",
      "source": [
        "# Restourant-Sentimental-Analys-ML-based\n",
        "This notebook stands for experiment + code tracking"
      ],
      "metadata": {
        "id": "jYn7OaNbxSnY"
      }
    },
    {
      "cell_type": "code",
      "execution_count": null,
      "metadata": {
        "id": "ZwRD04JAyoAC"
      },
      "outputs": [],
      "source": [
        "import kagglehub\n",
        "\n",
        "# Download latest version\n",
        "path = kagglehub.dataset_download(\"hj5992/restaurantreviews\")\n",
        "\n",
        "print(\"Path to dataset files:\", path)"
      ]
    },
    {
      "cell_type": "code",
      "source": [
        "import pandas as pd\n",
        "import numpy as np"
      ],
      "metadata": {
        "id": "w-oFCVDMzZGV"
      },
      "execution_count": 23,
      "outputs": []
    },
    {
      "cell_type": "code",
      "source": [
        "dataset = pd.read_csv(\"/root/.cache/kagglehub/datasets/hj5992/restaurantreviews/versions/1/Restaurant_Reviews.tsv\", sep=\"\\t\")"
      ],
      "metadata": {
        "id": "Xx8_SDgS0pFk"
      },
      "execution_count": 24,
      "outputs": []
    },
    {
      "cell_type": "code",
      "source": [
        "dataset.shape"
      ],
      "metadata": {
        "colab": {
          "base_uri": "https://localhost:8080/"
        },
        "id": "8DQfdRCtAuNQ",
        "outputId": "5b60b838-d236-4add-acc7-f52c26f327f2"
      },
      "execution_count": 25,
      "outputs": [
        {
          "output_type": "execute_result",
          "data": {
            "text/plain": [
              "(1000, 2)"
            ]
          },
          "metadata": {},
          "execution_count": 25
        }
      ]
    },
    {
      "cell_type": "code",
      "source": [
        "dataset.groupby(\"Liked\").agg({\"Liked\":\"count\"})"
      ],
      "metadata": {
        "colab": {
          "base_uri": "https://localhost:8080/",
          "height": 143
        },
        "id": "epvF_Nl5Axny",
        "outputId": "6e9a2365-c0d4-43d6-e567-f9f0cf15d495"
      },
      "execution_count": 26,
      "outputs": [
        {
          "output_type": "execute_result",
          "data": {
            "text/plain": [
              "       Liked\n",
              "Liked       \n",
              "0        500\n",
              "1        500"
            ],
            "text/html": [
              "\n",
              "  <div id=\"df-7f0bbcb1-d2f2-4822-820e-da8fc6a02bed\" class=\"colab-df-container\">\n",
              "    <div>\n",
              "<style scoped>\n",
              "    .dataframe tbody tr th:only-of-type {\n",
              "        vertical-align: middle;\n",
              "    }\n",
              "\n",
              "    .dataframe tbody tr th {\n",
              "        vertical-align: top;\n",
              "    }\n",
              "\n",
              "    .dataframe thead th {\n",
              "        text-align: right;\n",
              "    }\n",
              "</style>\n",
              "<table border=\"1\" class=\"dataframe\">\n",
              "  <thead>\n",
              "    <tr style=\"text-align: right;\">\n",
              "      <th></th>\n",
              "      <th>Liked</th>\n",
              "    </tr>\n",
              "    <tr>\n",
              "      <th>Liked</th>\n",
              "      <th></th>\n",
              "    </tr>\n",
              "  </thead>\n",
              "  <tbody>\n",
              "    <tr>\n",
              "      <th>0</th>\n",
              "      <td>500</td>\n",
              "    </tr>\n",
              "    <tr>\n",
              "      <th>1</th>\n",
              "      <td>500</td>\n",
              "    </tr>\n",
              "  </tbody>\n",
              "</table>\n",
              "</div>\n",
              "    <div class=\"colab-df-buttons\">\n",
              "\n",
              "  <div class=\"colab-df-container\">\n",
              "    <button class=\"colab-df-convert\" onclick=\"convertToInteractive('df-7f0bbcb1-d2f2-4822-820e-da8fc6a02bed')\"\n",
              "            title=\"Convert this dataframe to an interactive table.\"\n",
              "            style=\"display:none;\">\n",
              "\n",
              "  <svg xmlns=\"http://www.w3.org/2000/svg\" height=\"24px\" viewBox=\"0 -960 960 960\">\n",
              "    <path d=\"M120-120v-720h720v720H120Zm60-500h600v-160H180v160Zm220 220h160v-160H400v160Zm0 220h160v-160H400v160ZM180-400h160v-160H180v160Zm440 0h160v-160H620v160ZM180-180h160v-160H180v160Zm440 0h160v-160H620v160Z\"/>\n",
              "  </svg>\n",
              "    </button>\n",
              "\n",
              "  <style>\n",
              "    .colab-df-container {\n",
              "      display:flex;\n",
              "      gap: 12px;\n",
              "    }\n",
              "\n",
              "    .colab-df-convert {\n",
              "      background-color: #E8F0FE;\n",
              "      border: none;\n",
              "      border-radius: 50%;\n",
              "      cursor: pointer;\n",
              "      display: none;\n",
              "      fill: #1967D2;\n",
              "      height: 32px;\n",
              "      padding: 0 0 0 0;\n",
              "      width: 32px;\n",
              "    }\n",
              "\n",
              "    .colab-df-convert:hover {\n",
              "      background-color: #E2EBFA;\n",
              "      box-shadow: 0px 1px 2px rgba(60, 64, 67, 0.3), 0px 1px 3px 1px rgba(60, 64, 67, 0.15);\n",
              "      fill: #174EA6;\n",
              "    }\n",
              "\n",
              "    .colab-df-buttons div {\n",
              "      margin-bottom: 4px;\n",
              "    }\n",
              "\n",
              "    [theme=dark] .colab-df-convert {\n",
              "      background-color: #3B4455;\n",
              "      fill: #D2E3FC;\n",
              "    }\n",
              "\n",
              "    [theme=dark] .colab-df-convert:hover {\n",
              "      background-color: #434B5C;\n",
              "      box-shadow: 0px 1px 3px 1px rgba(0, 0, 0, 0.15);\n",
              "      filter: drop-shadow(0px 1px 2px rgba(0, 0, 0, 0.3));\n",
              "      fill: #FFFFFF;\n",
              "    }\n",
              "  </style>\n",
              "\n",
              "    <script>\n",
              "      const buttonEl =\n",
              "        document.querySelector('#df-7f0bbcb1-d2f2-4822-820e-da8fc6a02bed button.colab-df-convert');\n",
              "      buttonEl.style.display =\n",
              "        google.colab.kernel.accessAllowed ? 'block' : 'none';\n",
              "\n",
              "      async function convertToInteractive(key) {\n",
              "        const element = document.querySelector('#df-7f0bbcb1-d2f2-4822-820e-da8fc6a02bed');\n",
              "        const dataTable =\n",
              "          await google.colab.kernel.invokeFunction('convertToInteractive',\n",
              "                                                    [key], {});\n",
              "        if (!dataTable) return;\n",
              "\n",
              "        const docLinkHtml = 'Like what you see? Visit the ' +\n",
              "          '<a target=\"_blank\" href=https://colab.research.google.com/notebooks/data_table.ipynb>data table notebook</a>'\n",
              "          + ' to learn more about interactive tables.';\n",
              "        element.innerHTML = '';\n",
              "        dataTable['output_type'] = 'display_data';\n",
              "        await google.colab.output.renderOutput(dataTable, element);\n",
              "        const docLink = document.createElement('div');\n",
              "        docLink.innerHTML = docLinkHtml;\n",
              "        element.appendChild(docLink);\n",
              "      }\n",
              "    </script>\n",
              "  </div>\n",
              "\n",
              "\n",
              "    <div id=\"df-e8e08b60-9032-4527-8c5f-b31cf45c732b\">\n",
              "      <button class=\"colab-df-quickchart\" onclick=\"quickchart('df-e8e08b60-9032-4527-8c5f-b31cf45c732b')\"\n",
              "                title=\"Suggest charts\"\n",
              "                style=\"display:none;\">\n",
              "\n",
              "<svg xmlns=\"http://www.w3.org/2000/svg\" height=\"24px\"viewBox=\"0 0 24 24\"\n",
              "     width=\"24px\">\n",
              "    <g>\n",
              "        <path d=\"M19 3H5c-1.1 0-2 .9-2 2v14c0 1.1.9 2 2 2h14c1.1 0 2-.9 2-2V5c0-1.1-.9-2-2-2zM9 17H7v-7h2v7zm4 0h-2V7h2v10zm4 0h-2v-4h2v4z\"/>\n",
              "    </g>\n",
              "</svg>\n",
              "      </button>\n",
              "\n",
              "<style>\n",
              "  .colab-df-quickchart {\n",
              "      --bg-color: #E8F0FE;\n",
              "      --fill-color: #1967D2;\n",
              "      --hover-bg-color: #E2EBFA;\n",
              "      --hover-fill-color: #174EA6;\n",
              "      --disabled-fill-color: #AAA;\n",
              "      --disabled-bg-color: #DDD;\n",
              "  }\n",
              "\n",
              "  [theme=dark] .colab-df-quickchart {\n",
              "      --bg-color: #3B4455;\n",
              "      --fill-color: #D2E3FC;\n",
              "      --hover-bg-color: #434B5C;\n",
              "      --hover-fill-color: #FFFFFF;\n",
              "      --disabled-bg-color: #3B4455;\n",
              "      --disabled-fill-color: #666;\n",
              "  }\n",
              "\n",
              "  .colab-df-quickchart {\n",
              "    background-color: var(--bg-color);\n",
              "    border: none;\n",
              "    border-radius: 50%;\n",
              "    cursor: pointer;\n",
              "    display: none;\n",
              "    fill: var(--fill-color);\n",
              "    height: 32px;\n",
              "    padding: 0;\n",
              "    width: 32px;\n",
              "  }\n",
              "\n",
              "  .colab-df-quickchart:hover {\n",
              "    background-color: var(--hover-bg-color);\n",
              "    box-shadow: 0 1px 2px rgba(60, 64, 67, 0.3), 0 1px 3px 1px rgba(60, 64, 67, 0.15);\n",
              "    fill: var(--button-hover-fill-color);\n",
              "  }\n",
              "\n",
              "  .colab-df-quickchart-complete:disabled,\n",
              "  .colab-df-quickchart-complete:disabled:hover {\n",
              "    background-color: var(--disabled-bg-color);\n",
              "    fill: var(--disabled-fill-color);\n",
              "    box-shadow: none;\n",
              "  }\n",
              "\n",
              "  .colab-df-spinner {\n",
              "    border: 2px solid var(--fill-color);\n",
              "    border-color: transparent;\n",
              "    border-bottom-color: var(--fill-color);\n",
              "    animation:\n",
              "      spin 1s steps(1) infinite;\n",
              "  }\n",
              "\n",
              "  @keyframes spin {\n",
              "    0% {\n",
              "      border-color: transparent;\n",
              "      border-bottom-color: var(--fill-color);\n",
              "      border-left-color: var(--fill-color);\n",
              "    }\n",
              "    20% {\n",
              "      border-color: transparent;\n",
              "      border-left-color: var(--fill-color);\n",
              "      border-top-color: var(--fill-color);\n",
              "    }\n",
              "    30% {\n",
              "      border-color: transparent;\n",
              "      border-left-color: var(--fill-color);\n",
              "      border-top-color: var(--fill-color);\n",
              "      border-right-color: var(--fill-color);\n",
              "    }\n",
              "    40% {\n",
              "      border-color: transparent;\n",
              "      border-right-color: var(--fill-color);\n",
              "      border-top-color: var(--fill-color);\n",
              "    }\n",
              "    60% {\n",
              "      border-color: transparent;\n",
              "      border-right-color: var(--fill-color);\n",
              "    }\n",
              "    80% {\n",
              "      border-color: transparent;\n",
              "      border-right-color: var(--fill-color);\n",
              "      border-bottom-color: var(--fill-color);\n",
              "    }\n",
              "    90% {\n",
              "      border-color: transparent;\n",
              "      border-bottom-color: var(--fill-color);\n",
              "    }\n",
              "  }\n",
              "</style>\n",
              "\n",
              "      <script>\n",
              "        async function quickchart(key) {\n",
              "          const quickchartButtonEl =\n",
              "            document.querySelector('#' + key + ' button');\n",
              "          quickchartButtonEl.disabled = true;  // To prevent multiple clicks.\n",
              "          quickchartButtonEl.classList.add('colab-df-spinner');\n",
              "          try {\n",
              "            const charts = await google.colab.kernel.invokeFunction(\n",
              "                'suggestCharts', [key], {});\n",
              "          } catch (error) {\n",
              "            console.error('Error during call to suggestCharts:', error);\n",
              "          }\n",
              "          quickchartButtonEl.classList.remove('colab-df-spinner');\n",
              "          quickchartButtonEl.classList.add('colab-df-quickchart-complete');\n",
              "        }\n",
              "        (() => {\n",
              "          let quickchartButtonEl =\n",
              "            document.querySelector('#df-e8e08b60-9032-4527-8c5f-b31cf45c732b button');\n",
              "          quickchartButtonEl.style.display =\n",
              "            google.colab.kernel.accessAllowed ? 'block' : 'none';\n",
              "        })();\n",
              "      </script>\n",
              "    </div>\n",
              "\n",
              "    </div>\n",
              "  </div>\n"
            ],
            "application/vnd.google.colaboratory.intrinsic+json": {
              "type": "dataframe",
              "repr_error": "cannot insert Liked, already exists"
            }
          },
          "metadata": {},
          "execution_count": 26
        }
      ]
    },
    {
      "cell_type": "markdown",
      "source": [
        "Deownload `dagsHub` and `mlfow` to track experiments and models"
      ],
      "metadata": {
        "id": "YoDmv3v4xf4N"
      }
    },
    {
      "cell_type": "code",
      "source": [
        "%pip install -q dagshub 'mlflow>=2,<3'"
      ],
      "metadata": {
        "id": "JdSQsyknxnKr"
      },
      "execution_count": null,
      "outputs": []
    },
    {
      "cell_type": "markdown",
      "source": [
        "# Data preparation"
      ],
      "metadata": {
        "id": "nPY0Q-DKAhgm"
      }
    },
    {
      "cell_type": "code",
      "source": [
        "import nltk\n",
        "import re\n",
        "from nltk.tokenize import word_tokenize\n",
        "from nltk.corpus import stopwords\n",
        "from nltk.stem import WordNetLemmatizer\n",
        "\n",
        "nltk.download('punkt_tab')\n",
        "nltk.download('stopwords')\n",
        "nltk.download('wordnet')\n",
        "\n",
        "def clean_text(text):\n",
        "    text = text.lower()  # lowercase\n",
        "    text = re.sub(r'[^a-zA-Z\\s]', '', text)  # только буквы и пробелы\n",
        "    return text\n",
        "\n",
        "def tokenizeTxt(text):\n",
        "  tokens = word_tokenize(text)\n",
        "  return tokens\n",
        "\n",
        "def remove_stopwords(tokens):\n",
        "  stop_words = set(stopwords.words('english'))\n",
        "  negations = {\"no\", \"not\", \"never\", \"none\", \"nobody\", \"neither\", \"nor\"}\n",
        "  stop_words = stop_words - negations\n",
        "\n",
        "  filtered_tokens = [word for word in tokens if word.casefold() not in stop_words]\n",
        "  return filtered_tokens\n",
        "\n",
        "def lemmatize(tokens):\n",
        "  lemmatizer = WordNetLemmatizer()\n",
        "  lemmas = [lemmatizer.lemmatize(word, pos='v') for word in tokens]  # 'was' → 'be'\n",
        "  return lemmas\n",
        "\n",
        "def merge_negative_tokens(tokens):\n",
        "  skip = False\n",
        "  negations = {\"no\", \"not\", \"never\", \"none\", \"nobody\", \"neither\", \"nor\"}\n",
        "  merge=[]\n",
        "\n",
        "  for i in range(len(tokens)):\n",
        "    if skip:\n",
        "      skip=False\n",
        "      continue\n",
        "    if tokens[i] in negations and i+1 <len(tokens):\n",
        "      skip=True\n",
        "      merge.append(f\"{tokens[i]}_{tokens[i+1]}\")\n",
        "      continue\n",
        "    merge.append(tokens[i])\n",
        "  return merge"
      ],
      "metadata": {
        "id": "pbrfuy0f0yhX"
      },
      "execution_count": null,
      "outputs": []
    },
    {
      "cell_type": "code",
      "source": [
        "def preprocessText(text):\n",
        "  text = clean_text(text)\n",
        "  tokens = tokenizeTxt(text)\n",
        "  tokens = remove_stopwords(tokens)\n",
        "  tokens = lemmatize(tokens)\n",
        "  tokens = merge_negative_tokens(tokens)\n",
        "  return ' '.join(tokens)\n",
        "\n",
        "df = dataset[\"Review\"].apply(preprocessText)\n",
        "df.head()"
      ],
      "metadata": {
        "colab": {
          "base_uri": "https://localhost:8080/",
          "height": 241
        },
        "id": "I24rYoEpBtHV",
        "outputId": "5b6a30c7-d5f1-4fed-a11a-59332232fac7"
      },
      "execution_count": 29,
      "outputs": [
        {
          "output_type": "execute_result",
          "data": {
            "text/plain": [
              "0                                       wow love place\n",
              "1                                       crust not_good\n",
              "2                              not_tasty texture nasty\n",
              "3    stop late may bank holiday rick steve recommen...\n",
              "4                           selection menu great price\n",
              "Name: Review, dtype: object"
            ],
            "text/html": [
              "<div>\n",
              "<style scoped>\n",
              "    .dataframe tbody tr th:only-of-type {\n",
              "        vertical-align: middle;\n",
              "    }\n",
              "\n",
              "    .dataframe tbody tr th {\n",
              "        vertical-align: top;\n",
              "    }\n",
              "\n",
              "    .dataframe thead th {\n",
              "        text-align: right;\n",
              "    }\n",
              "</style>\n",
              "<table border=\"1\" class=\"dataframe\">\n",
              "  <thead>\n",
              "    <tr style=\"text-align: right;\">\n",
              "      <th></th>\n",
              "      <th>Review</th>\n",
              "    </tr>\n",
              "  </thead>\n",
              "  <tbody>\n",
              "    <tr>\n",
              "      <th>0</th>\n",
              "      <td>wow love place</td>\n",
              "    </tr>\n",
              "    <tr>\n",
              "      <th>1</th>\n",
              "      <td>crust not_good</td>\n",
              "    </tr>\n",
              "    <tr>\n",
              "      <th>2</th>\n",
              "      <td>not_tasty texture nasty</td>\n",
              "    </tr>\n",
              "    <tr>\n",
              "      <th>3</th>\n",
              "      <td>stop late may bank holiday rick steve recommen...</td>\n",
              "    </tr>\n",
              "    <tr>\n",
              "      <th>4</th>\n",
              "      <td>selection menu great price</td>\n",
              "    </tr>\n",
              "  </tbody>\n",
              "</table>\n",
              "</div><br><label><b>dtype:</b> object</label>"
            ]
          },
          "metadata": {},
          "execution_count": 29
        }
      ]
    },
    {
      "cell_type": "markdown",
      "source": [
        "# Dataset creation"
      ],
      "metadata": {
        "id": "jfUfSVGeHkQT"
      }
    },
    {
      "cell_type": "code",
      "source": [
        "from sklearn.feature_extraction.text import TfidfVectorizer\n",
        "from sklearn.linear_model import LogisticRegression\n",
        "from sklearn.metrics import classification_report\n",
        "\n",
        "# TF-IDF vectorization\n",
        "tfidf = TfidfVectorizer(\n",
        "    ngram_range=(1, 2),  # Check with bigrams\n",
        "    max_features=5000,\n",
        "    stop_words='english'  # Additional filtration\n",
        ")\n",
        "X = tfidf.fit_transform(df)\n",
        "y = dataset['Liked']"
      ],
      "metadata": {
        "id": "YSF9Uws8B-OS"
      },
      "execution_count": 30,
      "outputs": []
    },
    {
      "cell_type": "code",
      "source": [
        "from sklearn.model_selection import train_test_split\n",
        "\n",
        "# Splitting by train/test\n",
        "X_train, X_test, y_train, y_test = train_test_split(X, y, test_size=0.2, random_state=42)"
      ],
      "metadata": {
        "id": "jXN9kUpSH5bD"
      },
      "execution_count": 31,
      "outputs": []
    },
    {
      "cell_type": "markdown",
      "source": [
        "# Model creation"
      ],
      "metadata": {
        "id": "4YMCMAE9w10T"
      }
    },
    {
      "cell_type": "markdown",
      "source": [
        "## Baseline: Logistic regression"
      ],
      "metadata": {
        "id": "o5S3kAS-ICCC"
      }
    },
    {
      "cell_type": "markdown",
      "source": [
        "base model predictions"
      ],
      "metadata": {
        "id": "anqMhiKFIoXR"
      }
    },
    {
      "cell_type": "code",
      "source": [
        "model = LogisticRegression(\n",
        "    C=1.0,                # Regularization Power\n",
        "    penalty='l2',         # L2 regularization\n",
        "    solver='liblinear',   # Optimizer\n",
        "    class_weight='balanced'\n",
        ")\n",
        "model.fit(X_train, y_train)\n",
        "\n",
        "# Model metrics\n",
        "y_pred = model.predict(X_test)\n",
        "print(classification_report(y_test, y_pred))"
      ],
      "metadata": {
        "colab": {
          "base_uri": "https://localhost:8080/"
        },
        "id": "ZEZa1X1UINrp",
        "outputId": "739f96f2-e478-4d47-ddb5-936dd3fb089d"
      },
      "execution_count": 32,
      "outputs": [
        {
          "output_type": "stream",
          "name": "stdout",
          "text": [
            "              precision    recall  f1-score   support\n",
            "\n",
            "           0       0.73      0.89      0.80        96\n",
            "           1       0.87      0.70      0.78       104\n",
            "\n",
            "    accuracy                           0.79       200\n",
            "   macro avg       0.80      0.79      0.79       200\n",
            "weighted avg       0.80      0.79      0.79       200\n",
            "\n"
          ]
        }
      ]
    },
    {
      "cell_type": "markdown",
      "source": [
        "track this results to `mlflow`"
      ],
      "metadata": {
        "id": "5eDg6Vbdw6ns"
      }
    },
    {
      "cell_type": "code",
      "source": [
        "import dagshub\n",
        "dagshub.init(repo_owner='PigStep', repo_name='Restourant-Sentimental-Analys-ML-based', mlflow=True)\n",
        "\n",
        "import mlflow\n",
        "with mlflow.start_run(run_name=\"baseline Logistic Regression\"):\n",
        "  mlflow.log_metric('precision-')\n",
        "  mlflow.log_metric('f1-macro', 0.79)\n",
        "  mlflow.log_metric('recall-macro', 0.79)\n",
        "\n",
        "\n",
        "  mlflow.log_model(\"baseline Logistic Regression\")"
      ],
      "metadata": {
        "id": "VrpEBV58xE62"
      },
      "execution_count": null,
      "outputs": []
    },
    {
      "cell_type": "markdown",
      "source": [
        "### Feature Grid Search"
      ],
      "metadata": {
        "id": "oru3mbGhJBuE"
      }
    },
    {
      "cell_type": "code",
      "source": [
        "from sklearn.pipeline import Pipeline\n",
        "from sklearn.model_selection import GridSearchCV"
      ],
      "metadata": {
        "id": "KGkzu0OeITOc"
      },
      "execution_count": null,
      "outputs": []
    },
    {
      "cell_type": "code",
      "source": [
        "def run_grid_search(param_grid):\n",
        "  pipeline = Pipeline([\n",
        "      ('tfidf', TfidfVectorizer()),\n",
        "      ('clf', LogisticRegression(class_weight='balanced'))\n",
        "  ])\n",
        "\n",
        "  grid_search = GridSearchCV(\n",
        "      pipeline,\n",
        "      param_grid,\n",
        "      cv=5,\n",
        "      scoring='f1_weighted',    # Optimizing by f1\n",
        "      n_jobs=-1,\n",
        "      verbose=1\n",
        "  )\n",
        "\n",
        "  grid_search.fit(dataset['Review'], dataset['Liked'])\n",
        "\n",
        "  print(\"Best params:\", grid_search.best_params_)\n",
        "  print(\"Best F1-score:\", grid_search.best_score_)"
      ],
      "metadata": {
        "id": "OB0bfmL_JNgQ"
      },
      "execution_count": null,
      "outputs": []
    },
    {
      "cell_type": "code",
      "source": [
        "param_grid = {\n",
        "      'tfidf__ngram_range': [(1, 1), (1, 2)],  # Only words or with bigrams\n",
        "      'tfidf__max_features': [1000, 5000],\n",
        "      'clf__C': [0.1, 1.0, 10.0],\n",
        "      'clf__penalty': ['l1', 'l2'],             # Type of regularization\n",
        "      'clf__solver': ['liblinear', 'saga']      # Optimization algoriphm\n",
        "  }\n",
        "\n",
        "# run_grid_search(param_grid)\n",
        "# Best params: {'clf__C': 10.0, 'clf__penalty': 'l2', 'clf__solver': 'saga', 'tfidf__max_features': 5000, 'tfidf__ngram_range': (1, 2)}\n",
        "# Best F1-score: 0.8128993073820239\n",
        "\n",
        "param_grid = {\n",
        "      'tfidf__ngram_range': [(1, 2), (1, 3)],\n",
        "      'tfidf__max_features': [5000, 7000, 10000],\n",
        "      'clf__C': [10.0, 15.00, 25.00],\n",
        "  }\n",
        "# run_grid_search(param_grid)\n",
        "# Best params: {'clf__C': 25.0, 'tfidf__max_features': 7000, 'tfidf__ngram_range': (1, 2)}\n",
        "# Best F1-score: 0.8149600538151471\n",
        "\n",
        "param_grid = {\n",
        "      'tfidf__ngram_range': [(1, 2)],\n",
        "      'tfidf__max_features': [6000, 7000, 8000],\n",
        "      'clf__C': [25.00, 35.00, 50.00],\n",
        "  }\n",
        "# run_grid_search(param_grid)\n",
        "# Best params: {'clf__C': 35.0, 'tfidf__max_features': 7000, 'tfidf__ngram_range': (1, 2)}\n",
        "# Best F1-score: 0.8199671874750051\n",
        "\n",
        "param_grid = {\n",
        "      'tfidf__ngram_range': [(1, 2)],\n",
        "      'tfidf__max_features': range(6000,8000,100),\n",
        "      'clf__C': range(25,50,5),\n",
        "  }\n",
        "# run_grid_search(param_grid)\n",
        "# Best params: {'clf__C': 30, 'tfidf__max_features': 6600, 'tfidf__ngram_range': (1, 2)}\n",
        "# Best F1-score: 0.8219659874750981"
      ],
      "metadata": {
        "id": "BJTkh-J1KSp3"
      },
      "execution_count": null,
      "outputs": []
    },
    {
      "cell_type": "code",
      "source": [
        "feature_names = tfidf.get_feature_names_out()\n",
        "coefs = model.coef_[0]\n",
        "top_positive = sorted(zip(coefs, feature_names), reverse=True)[:10]\n",
        "top_negative = sorted(zip(coefs, feature_names))[:10]\n",
        "\n",
        "print(\"Top-10 positive n-grams:\")\n",
        "for score, word in top_positive:\n",
        "    print(f\"{word}: {score:.2f}\")\n",
        "print('')\n",
        "print(\"Top-10 negative n-grams:\")\n",
        "for score, word in top_negative:\n",
        "    print(f\"{word}: {score:.2f}\")"
      ],
      "metadata": {
        "id": "JRO5t4wB36zk"
      },
      "execution_count": null,
      "outputs": []
    },
    {
      "cell_type": "code",
      "source": [
        "pipeline = Pipeline([\n",
        "      ('tfidf', TfidfVectorizer(\n",
        "          preprocessor=preprocessText,\n",
        "          ngram_range=(1, 2),\n",
        "          max_features=6600\n",
        "      )),\n",
        "      ('clf', LogisticRegression(\n",
        "          C=30,\n",
        "          penalty=\"l2\",\n",
        "          solver=\"saga\",\n",
        "          class_weight='balanced'\n",
        "          ))\n",
        "  ])\n",
        "\n",
        "#Create \"pure\" data for pipeline\n",
        "dataset = pd.read_csv(\"/root/.cache/kagglehub/datasets/hj5992/restaurantreviews/versions/1/Restaurant_Reviews.tsv\", sep=\"\\t\")\n",
        "X = dataset['Review']\n",
        "y = dataset['Liked']\n",
        "X_train, X_test, y_train, y_test = train_test_split(X, y, test_size=0.2, random_state=42)\n",
        "\n",
        "pipeline.fit(X_train,y_train)\n",
        "y_pred = pipeline.predict(X_test)\n",
        "print(classification_report(y_test, y_pred))"
      ],
      "metadata": {
        "id": "ryPh1NSk6Lng"
      },
      "execution_count": null,
      "outputs": []
    },
    {
      "cell_type": "code",
      "metadata": {
        "id": "821eef9a"
      },
      "source": [
        "import joblib\n",
        "\n",
        "# Define the filename for your pipeline\n",
        "filename = 'restaurant_review_pipelineLR.joblib'\n",
        "\n",
        "# Save the pipeline to the file\n",
        "joblib.dump(pipeline, filename)\n",
        "\n",
        "print(f\"Pipeline saved to {filename}\")"
      ],
      "execution_count": null,
      "outputs": []
    },
    {
      "cell_type": "markdown",
      "source": [
        "## SVM"
      ],
      "metadata": {
        "id": "vrcD-Wtd3iAN"
      }
    },
    {
      "cell_type": "code",
      "source": [
        "from sklearn.svm import SVC\n",
        "\n",
        "pipeline = Pipeline([\n",
        "      ('tfidf', TfidfVectorizer(\n",
        "          preprocessor=preprocessText,\n",
        "          ngram_range=(1, 2),\n",
        "          max_features=6600\n",
        "      )),\n",
        "      ('clf', SVC(kernel='linear'))\n",
        "  ])\n",
        "\n",
        "X_train, X_test, y_train, y_test = train_test_split(X, y, test_size=0.2, random_state=42)\n",
        "\n",
        "pipeline.fit(X_train,y_train)\n",
        "y_pred_svm = pipeline.predict(X_test)\n",
        "\n",
        "# Evaluate the SVM model\n",
        "print(\"SVM Model Classification Report:\")\n",
        "print(classification_report(y_test, y_pred_svm))\n"
      ],
      "metadata": {
        "id": "nqrLOhUE-v19"
      },
      "execution_count": null,
      "outputs": []
    },
    {
      "cell_type": "code",
      "source": [
        "def run_grid_searchSVM(param_grid):\n",
        "  pipeline = Pipeline([\n",
        "      ('tfidf', TfidfVectorizer()),\n",
        "      ('clf', SVC())\n",
        "  ])\n",
        "\n",
        "  grid_search = GridSearchCV(\n",
        "      pipeline,\n",
        "      param_grid,\n",
        "      cv=5,\n",
        "      scoring='f1_weighted',    # Optimizing by f1\n",
        "      n_jobs=-1,\n",
        "      verbose=1\n",
        "  )\n",
        "\n",
        "  grid_search.fit(dataset['Review'], dataset['Liked'])\n",
        "\n",
        "  print(\"Best params:\", grid_search.best_params_)\n",
        "  print(\"Best F1-score:\", grid_search.best_score_)"
      ],
      "metadata": {
        "id": "QseEVcVG_aaU"
      },
      "execution_count": null,
      "outputs": []
    },
    {
      "cell_type": "code",
      "source": [
        "param_grid_svm = {\n",
        "    'clf__C': [0.1, 1, 10, 100],\n",
        "    'clf__gamma': [1, 0.1, 0.01, 0.001],\n",
        "    'clf__kernel': ['rbf', 'linear'],\n",
        "    'tfidf__ngram_range': [(1,1), (1,2)],\n",
        "    'tfidf__max_features': [1000, 5000]\n",
        "}\n",
        "# run_grid_searchSVM(param_grid_svm)\n",
        "# Best params: {'clf__C': 100, 'clf__gamma': 0.1, 'clf__kernel': 'rbf', 'tfidf__max_features': 5000, 'tfidf__ngram_range': (1, 2)}\n",
        "# Best F1-score: 0.8209770675991559\n",
        "\n",
        "param_grid_svm = {\n",
        "    'clf__C': [50, 70, 100],\n",
        "    'clf__gamma': [0.5, 0.1, 0.05],\n",
        "    'clf__kernel': ['rbf', 'linear'],\n",
        "    'tfidf__ngram_range': [(1,2)],\n",
        "    'tfidf__max_features': [3000, 5000, 7000]\n",
        "}\n",
        "# run_grid_searchSVM(param_grid_svm)\n",
        "# Best params: {'clf__C': 50, 'clf__gamma': 0.5, 'clf__kernel': 'rbf', 'tfidf__max_features': 7000, 'tfidf__ngram_range': (1, 2)}\n",
        "# Best F1-score: 0.827973134694221\n",
        "\n",
        "param_grid_svm = {\n",
        "    'clf__C': [30, 50, 75],\n",
        "    'clf__gamma': [0.8, 0.5, 0.3],\n",
        "    'clf__kernel': ['rbf'],\n",
        "    'tfidf__ngram_range': [(1,2)],\n",
        "    'tfidf__max_features': [5000, 7000, 9000]\n",
        "}\n",
        "# run_grid_searchSVM(param_grid_svm)\n",
        "# Best params: {'clf__C': 30, 'clf__gamma': 0.5, 'clf__kernel': 'rbf', 'tfidf__max_features': 7000, 'tfidf__ngram_range': (1, 2)}\n",
        "# Best F1-score: 0.827973134694221\n",
        "\n",
        "param_grid_svm = {\n",
        "    'clf__C': range(10,30,5),\n",
        "    'clf__gamma': np.arange(0.3,0.8,0.1),\n",
        "    'clf__kernel': ['rbf'],\n",
        "    'tfidf__ngram_range': [(1,2)],\n",
        "    'tfidf__max_features': range(6000,8000,100)\n",
        "}\n",
        "# run_grid_searchSVM(param_grid_svm)\n",
        "# Best params: {'clf__C': 10, 'clf__gamma': np.float64(0.5), 'clf__kernel': 'rbf', 'tfidf__max_features': 6600, 'tfidf__ngram_range': (1, 2)}\n",
        "# Best F1-score: 0.8289823188556905"
      ],
      "metadata": {
        "id": "vhtVQhyN_lfA"
      },
      "execution_count": null,
      "outputs": []
    },
    {
      "cell_type": "code",
      "source": [
        "pipeline = Pipeline([\n",
        "      ('tfidf', TfidfVectorizer(\n",
        "          preprocessor=preprocessText,\n",
        "          ngram_range=(1, 2),\n",
        "          max_features=6600\n",
        "      )),\n",
        "      ('clf', SVC(\n",
        "          C=10,\n",
        "          gamma=0.5,\n",
        "          kernel=\"rbf\",\n",
        "          ))\n",
        "  ])\n",
        "\n",
        "#Create \"pure\" data for pipeline\n",
        "dataset = pd.read_csv(\"/root/.cache/kagglehub/datasets/hj5992/restaurantreviews/versions/1/Restaurant_Reviews.tsv\", sep=\"\\t\")\n",
        "X = dataset['Review']\n",
        "y = dataset['Liked']\n",
        "X_train, X_test, y_train, y_test = train_test_split(X, y, test_size=0.2, random_state=42)\n",
        "\n",
        "pipeline.fit(X_train,y_train)\n",
        "y_pred = pipeline.predict(X_test)\n",
        "print(classification_report(y_test, y_pred))"
      ],
      "metadata": {
        "id": "H5oNDLU4AMv6"
      },
      "execution_count": null,
      "outputs": []
    },
    {
      "cell_type": "code",
      "source": [
        "# Define the filename for your pipeline\n",
        "filename = 'restaurant_review_pipelineSVM.joblib'\n",
        "\n",
        "# Save the pipeline to the file\n",
        "joblib.dump(pipeline, filename)\n",
        "\n",
        "print(f\"Pipeline saved to {filename}\")"
      ],
      "metadata": {
        "id": "KAidkJ-PE58V"
      },
      "execution_count": null,
      "outputs": []
    },
    {
      "cell_type": "code",
      "source": [],
      "metadata": {
        "id": "WUcci-BbGf9T"
      },
      "execution_count": null,
      "outputs": []
    }
  ]
}